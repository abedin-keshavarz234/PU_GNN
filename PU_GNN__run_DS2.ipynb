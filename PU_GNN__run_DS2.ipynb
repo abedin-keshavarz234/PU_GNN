{
  "cells": [
    {
      "cell_type": "code",
      "execution_count": 2,
      "metadata": {
        "colab": {
          "base_uri": "https://localhost:8080/"
        },
        "id": "1Dga-WHnufak",
        "outputId": "af908f2a-0bb1-490b-ea97-8fadb3fcf725"
      },
      "outputs": [
        {
          "output_type": "stream",
          "name": "stdout",
          "text": [
            "Drive already mounted at /content/drive; to attempt to forcibly remount, call drive.mount(\"/content/drive\", force_remount=True).\n"
          ]
        }
      ],
      "source": [
        "from google.colab import drive\n",
        "drive.mount('/content/drive')"
      ]
    },
    {
      "cell_type": "code",
      "execution_count": 3,
      "metadata": {
        "colab": {
          "base_uri": "https://localhost:8080/"
        },
        "id": "Iip1Bm5wujLi",
        "outputId": "56254991-9931-492b-d36f-0bcb51b635d5"
      },
      "outputs": [
        {
          "output_type": "stream",
          "name": "stdout",
          "text": [
            "/content/drive/My Drive/project\n",
            "/content/drive/My Drive/project\n"
          ]
        }
      ],
      "source": [
        "%cd /content/drive/My Drive/project\n",
        "!pwd"
      ]
    },
    {
      "cell_type": "code",
      "execution_count": 4,
      "metadata": {
        "id": "CDi3XrUx8Rf3"
      },
      "outputs": [],
      "source": [
        "# Load libraries\n",
        "import pandas as pd\n",
        "import numpy as np\n",
        "from sklearn.decomposition import PCA\n",
        "import random\n",
        "import time\n",
        "import csv\n",
        "import os\n",
        "import sys\n",
        "from sklearn.model_selection import train_test_split # Import train_test_split function\n",
        "from sklearn import metrics #Import scikit-learn metrics module for accuracy calculation"
      ]
    },
    {
      "cell_type": "code",
      "execution_count": 5,
      "metadata": {
        "id": "Bn9fy81IrqU0"
      },
      "outputs": [],
      "source": [
        "datamono = pd.read_csv(\"biomono.csv\")\n",
        "\n",
        "dataset1 = datamono.values\n",
        "datacombo = pd.read_csv(\"biocombo.csv\")#biocombo\n",
        "\n",
        "dataset2 = datacombo.values\n",
        "\n",
        "x1combo=dataset2[:,1]\n",
        "x2combo=dataset2[:,0]\n",
        "drag_list= []\n",
        "dic_dragcode={}\n",
        "dic_indragcode={}\n",
        "\n",
        "xm1drag=dataset1[:,1]\n",
        "d=0\n",
        "for i in range(len(xm1drag)):\n",
        "  if xm1drag[i] not in drag_list:\n",
        "    drag_list.append(xm1drag[i])\n",
        "    dic_dragcode[xm1drag[i]] = d\n",
        "    dic_indragcode[d]=xm1drag[i]\n",
        "    d+=1\n",
        "for i in range(len(x1combo)):\n",
        "  if x1combo[i] not in drag_list:\n",
        "    drag_list.append(x1combo[i])\n",
        "    dic_dragcode[x1combo[i]] = d\n",
        "    dic_indragcode[d]=x1combo[i]\n",
        "    d+=1\n",
        "  if x2combo[i] not in drag_list:\n",
        "    drag_list.append(x2combo[i])\n",
        "    dic_dragcode[x2combo[i]] = d\n",
        "    dic_indragcode[d]=x2combo[i]\n",
        "    d+=1"
      ]
    },
    {
      "cell_type": "code",
      "execution_count": 9,
      "metadata": {
        "id": "pyPk7z1QwfVb"
      },
      "outputs": [],
      "source": [
        "data_biomono =dataset1\n",
        "data_biocombo =dataset2\n"
      ]
    },
    {
      "cell_type": "code",
      "execution_count": null,
      "metadata": {
        "id": "79t3Hek0u6Pq"
      },
      "outputs": [],
      "source": [
        "\n",
        "datacombo = pd.read_csv(\"biocombo.csv\")\n",
        "number=500\n",
        "dataset2 = datacombo.values\n",
        "ysid=dataset2[:,2]\n",
        "side_list01= []\n",
        "side_list1= []\n",
        "side_set=set()\n",
        "dic_sidcode1={}\n",
        "dic_sidcode01={}\n",
        "\n",
        "dic_insidcode01={}\n",
        "dic_insidcode1={}\n",
        "si=0\n",
        "s=0\n",
        "p=0\n",
        "counter=np.zeros((len(side_set)))\n",
        "\n",
        "for i in range(len(ysid)):\n",
        "  #if ysid[i] in side_list0:\n",
        "    if ysid[i] not in side_list01:\n",
        "      side_set.add(ysid[i])\n",
        "      side_list01.append(ysid[i])\n",
        "      dic_sidcode01[ysid[i]] = si\n",
        "      dic_insidcode01[si] = ysid[i]\n",
        "      si+=1\n",
        "\n",
        "counter1=np.zeros((len(side_set)))\n",
        "counter=[]\n",
        "for i in range(len(ysid)):\n",
        "  counter1[dic_sidcode01[ysid[i]]]+=1\n",
        "\n",
        "NO_side=0\n",
        "\n",
        "for i in range(len(counter1)):\n",
        "  if  counter1[i]>=number:\n",
        "    NO_side+=1\n",
        "for i in range(len(ysid)):\n",
        "  if counter1[dic_sidcode01[ysid[i]]]>=number:\n",
        "    p+=1\n",
        "    if ysid[i] not in side_list1:\n",
        "      side_set.add(ysid[i])\n",
        "      side_list1.append(ysid[i])\n",
        "      dic_sidcode1[ysid[i]] = s\n",
        "      dic_insidcode1[s] = ysid[i]\n",
        "      counter.append(counter1[dic_sidcode01[ysid[i]]])\n",
        "      s+=1\n",
        "\n"
      ]
    },
    {
      "cell_type": "code",
      "execution_count": null,
      "metadata": {
        "id": "XjO9HO-96Uio"
      },
      "outputs": [],
      "source": [
        "def load_training_data(f_name):\n",
        "    print('We are loading data from:', f_name)\n",
        "    words = []\n",
        "    with open(f_name, 'r') as f:\n",
        "        for line in f:\n",
        "            word = line[:-1].split(' ')\n",
        "            words.append(([word]))\n",
        "            print(line)\n",
        "    return words"
      ]
    },
    {
      "cell_type": "code",
      "execution_count": null,
      "metadata": {
        "id": "3Ye48Mx7tDuH"
      },
      "outputs": [],
      "source": [
        "def save_walks(walk_file, test):\n",
        "    with open( walk_file, 'w') as f:\n",
        "      for line in range(len(test)):\n",
        "            words = test[line]\n",
        "            f.write(' '.join([str(x) for x in words]) + '\\n')"
      ]
    },
    {
      "cell_type": "code",
      "execution_count": null,
      "metadata": {
        "id": "AcmrzuqvNl1A"
      },
      "outputs": [],
      "source": [
        "data_target = pd.read_csv(\"bio-decagon-targets-all.csv\")\n",
        "data_target"
      ]
    },
    {
      "cell_type": "code",
      "execution_count": null,
      "metadata": {
        "id": "fOC2gGpy8ZHN"
      },
      "outputs": [],
      "source": [
        "dataset = data_target.values\n",
        "side_list= []\n",
        "data_target=[]\n",
        "target_list=[]\n",
        "dic_target={}\n",
        "dic_intarget={}\n",
        "dic_Disease={}\n",
        "ysid=dataset[:,0]\n",
        "target =dataset[:,1]\n",
        "y_Disease = dataset[:,1]\n",
        "p=0\n",
        "for i in range(len(ysid)):\n",
        "  if ysid[i] in drag_list:\n",
        "    data_target.append(dataset[i,:])\n",
        "    if target[i] not in target_list:\n",
        "      target_list.append(target[i])\n",
        "      dic_target[target[i]] = p\n",
        "      dic_intarget[p] = target[i]\n",
        "      p+=1\n"
      ]
    },
    {
      "cell_type": "code",
      "execution_count": null,
      "metadata": {
        "id": "MxISbdPm_QWE"
      },
      "outputs": [],
      "source": [
        "matrix_target = np.zeros((len(drag_list),len(target_list)))\n",
        "matrix_target.shape"
      ]
    },
    {
      "cell_type": "code",
      "execution_count": null,
      "metadata": {
        "id": "JNuzi_htBxFr"
      },
      "outputs": [],
      "source": [
        "for i in range(len(data_target)):\n",
        "  dt = data_target[i]\n",
        "  d = dt[0]\n",
        "  t = dt[1]\n",
        "  matrix_target[dic_dragcode[d],dic_target[t]] = int(1)\n"
      ]
    },
    {
      "cell_type": "code",
      "execution_count": null,
      "metadata": {
        "id": "i0pLgbCsjAH3"
      },
      "outputs": [],
      "source": [
        "def SPP(matrix):\n",
        "\n",
        "  import pandas as pd\n",
        "  import numpy as np\n",
        "  import random\n",
        "  set_begin=[]\n",
        "  set_end=[]\n",
        "  set_end1=[]\n",
        "  test=0\n",
        "  sets=[]\n",
        "  d = len(matrix)\n",
        "  feture_matrix =np.zeros( (d, d) )\n",
        "  feture_matrix1 =[d, d]\n",
        "  for i in range(len(matrix)):\n",
        "    for j in range(len(matrix)):\n",
        "      feture_matrix[i,j] =int(0)\n",
        "  s=0\n",
        "  k1=0\n",
        "  tr=0\n",
        "  for i in range(len(matrix)):\n",
        "    s=0\n",
        "    tr=0\n",
        "    set_begin=[]\n",
        "    set_end=[]\n",
        "    set_end1=[]\n",
        "    test=0\n",
        "    for j in range(len(matrix[i])):\n",
        "      set_end1=[]\n",
        "      set_begin=[]\n",
        "      if matrix[i,j]==1:\n",
        "        for k in range(len(matrix)):\n",
        "          if matrix[k,j]==1:\n",
        "            set_begin.append(k)\n",
        "        if s==0:\n",
        "          set_end=set_begin\n",
        "          s=1\n",
        "        if s==1:\n",
        "          for p in range(len(matrix[i])):\n",
        "            if (p in set_end) and (p in set_begin):\n",
        "              set_end1.append(p)\n",
        "          set_end =set_end1\n",
        "\n",
        "    tr1=0\n",
        "    for p in range(len(sets)):\n",
        "      if set_end==sets[p]:\n",
        "        tr1=1\n",
        "    if tr1==0:\n",
        "      for p in range(len(matrix)):\n",
        "        if p not in set_end:\n",
        "          feture_matrix[p, k1]=int(0)\n",
        "        if p in set_end:\n",
        "          feture_matrix[p, k1]=int(1)\n",
        "          tr =1\n",
        "      if tr ==1 :\n",
        "        tr=0\n",
        "        k1+=1\n",
        "  return feture_matrix,k1"
      ]
    },
    {
      "cell_type": "code",
      "execution_count": null,
      "metadata": {
        "id": "ugsNpIGLAWWM"
      },
      "outputs": [],
      "source": [
        "matrix_target1 =np.zeros( (645, 645) )"
      ]
    },
    {
      "cell_type": "code",
      "execution_count": null,
      "metadata": {
        "id": "i2NYdvTdl9-Q"
      },
      "outputs": [],
      "source": [
        " matrix_target11, k= SPP(matrix_target)"
      ]
    },
    {
      "cell_type": "code",
      "execution_count": null,
      "metadata": {
        "id": "SS92jbGuv8Jj"
      },
      "outputs": [],
      "source": [
        "matrix_target1 =np.zeros( (645, k) )\n",
        "for j in range(len(matrix_target11)):\n",
        "  s=matrix_target1[j]\n",
        "  d=matrix_target11[j]\n",
        "  for p in range(k):\n",
        "    s[p]=d[p]\n"
      ]
    },
    {
      "cell_type": "code",
      "execution_count": null,
      "metadata": {
        "id": "8zqx3k9Ic2eQ"
      },
      "outputs": [],
      "source": [
        "!pip install pulearn"
      ]
    },
    {
      "cell_type": "code",
      "execution_count": null,
      "metadata": {
        "id": "-RKGvMj5Z2Q0"
      },
      "outputs": [],
      "source": [
        "def pu_learn(a):\n",
        "  from pulearn import ElkanotoPuClassifier\n",
        "  import numpy as np\n",
        "  #from sklearn.svm import SVC\n",
        "  import numpy as np\n",
        "  import pytest\n",
        "  from sklearn.datasets import make_classification\n",
        "  from sklearn.naive_bayes import GaussianNB\n",
        "  #from sklearn.tree import DecisionTreeClassifier\n",
        "  #from sklearn.ensemble import RandomForestClassifier\n",
        "  #from sklearn.neighbors import KNeighborsClassifier\n",
        "  #from sklearn.linear_model import (LogisticRegression,Perceptron,)\n",
        "  from sklearn.exceptions import NotFittedError\n",
        "\n",
        "  from pulearn import (\n",
        "      BaggingPuClassifier,\n",
        "  )\n",
        "  x1=[]\n",
        "  x2=[]\n",
        "  y=[]\n",
        "  x=[]\n",
        "  y1=[]\n",
        "  CV=0\n",
        "  l= 0\n",
        "  x=[]\n",
        "  y_pu=[]\n",
        "  data=[]\n",
        "  p =207690\n",
        "  x1 =[]\n",
        "  x2 =[]\n",
        "  for i in range(len(a)):\n",
        "    for j in range(i+1, len(a)):\n",
        "      d=[]\n",
        "      b=[]\n",
        "      if a[i, j] == 1:\n",
        "                y.append(int(1))\n",
        "                data.append([i,j])\n",
        "                d = (matrix_target_[i])\n",
        "                b = (matrix_target_[j])\n",
        "\n",
        "\n",
        "      else:\n",
        "                y.append(int(-1))\n",
        "                data.append([i,j])\n",
        "                d = (matrix_target_[i])\n",
        "                b = (matrix_target_[j])\n",
        "\n",
        "      x1.append(d)\n",
        "      x2.append(b)\n",
        "      l+=1\n",
        "      d=[]\n",
        "      b=[]\n",
        "  x1 =np.array(x1)\n",
        "  x2 =np.array(x2)\n",
        "  y =np.array(y)\n",
        "  x1 = np.concatenate((np.array(x1), x2), axis=1)\n",
        "\n",
        "  estimator = GaussianNB()\n",
        "  pu_estimator = ElkanotoPuClassifier(estimator, hold_out_ratio=0.9)\n",
        "  pu_estimator.fit(x1, y)\n",
        "  pu_estimator.predict(x1)\n",
        "  len(np.where((pu_estimator.predict(x1) == estimator.predict(x1)) == False)[0])\n",
        "  len(np.where((pu_estimator.predict(x1) == estimator.predict(x1)) == True)[0])\n",
        "  y_pu=pu_estimator.predict(x1)\n",
        "  y1=estimator.predict(x1)\n",
        "\n",
        "  return y_pu"
      ]
    },
    {
      "cell_type": "code",
      "execution_count": null,
      "metadata": {
        "id": "zMVawIFrc28F"
      },
      "outputs": [],
      "source": [
        "def matrix(j, data_biocombo, allside, dic_sidcode1,dic_dragcode):\n",
        "  import numpy as np\n",
        "  matrix_2drag_side = np.zeros((643,643))\n",
        "\n",
        "  for i in range(len(data_biocombo)):\n",
        "    dt= data_biocombo[i]\n",
        "    i1 = dt[2]\n",
        "    d1 = dt[1]\n",
        "    d2 = dt[0]\n",
        "    if i1 in (side_list1):\n",
        "      if (dic_sidcode1[i1]==j):\n",
        "        matrix_2drag_side[dic_dragcode[d1], dic_dragcode[d2]] = 1\n",
        "        matrix_2drag_side[dic_dragcode[d2], dic_dragcode[d1]] = 1\n",
        "\n",
        "  return matrix_2drag_side"
      ]
    },
    {
      "cell_type": "code",
      "execution_count": null,
      "metadata": {
        "id": "bL7-71oRxBp9"
      },
      "outputs": [],
      "source": [
        "def pos_all_pu(a, data, CV_num):\n",
        "  print(\"fold_num\", CV_num)\n",
        "  fold_num=0\n",
        "  non_fold_num=0\n",
        "  count=0\n",
        "  trainPosition=[]\n",
        "  trainPosition0=[]\n",
        "  all_pos=[]\n",
        "  validPosition=[]\n",
        "  testPosition=[]\n",
        "  drag=[]\n",
        "  validPosition0=[]\n",
        "  puPosition=[]\n",
        "  testPosition0=[]\n",
        "  trainPosition1=[]\n",
        "  validPosition1=[]\n",
        "  testPosition1=[]\n",
        "  link_number = 0\n",
        "  nonLinksPosition1 = []\n",
        "  nonLinksPosition = [] # all non-link position\n",
        "  link_position = []\n",
        "  CV=0\n",
        "  f=0\n",
        "  nl=0\n",
        "  counter=0\n",
        "  for i in range(len(a)):\n",
        "        for j in range(i+1, len(a)):\n",
        "          if (a[i, j] == 1) or (data[f]==1):\n",
        "\n",
        "                link_number = link_number + 1\n",
        "                link_position.append([i, j])\n",
        "                counter+=1\n",
        "                f+=1\n",
        "          else:\n",
        "                nonLinksPosition.append([1, i, j,0])\n",
        "                nl+=1\n",
        "                f+=1\n",
        "  link_position = np.array(link_position)\n",
        "  nonLinksPosition = np.array(nonLinksPosition)\n",
        "  index = np.arange(0, len(link_position))\n",
        "  random.shuffle(index)\n",
        "  fold_num = len(link_position) // CV_num\n",
        "  test_index = index[(CV * fold_num):((CV + 1) * fold_num)]\n",
        "  valid_index = index[((CV+1) * fold_num):((CV + 2) * fold_num)]\n",
        "  train_index = index[((CV+2) * fold_num): ]\n",
        "  test_index.sort()\n",
        "  train_index.sort()\n",
        "  valid_index.sort()\n",
        "  f=0\n",
        "  for i in range(len(a)):\n",
        "    for j in range(i+1, len(a)):\n",
        "      if (a[i, j] == 1) or (data[f]==1):\n",
        "          f+=1\n",
        "          if (i in drag) and (j in drag):\n",
        "            gf=[1, i, j, 1]\n",
        "            testPosition.append(gf)\n",
        "            validPosition.append(gf)\n",
        "            gf=[1, i, j]\n",
        "            trainPosition1.append(gf)\n",
        "          else:\n",
        "            gf=[1, i, j]\n",
        "            trainPosition.append(gf)\n",
        "            if i not in drag:\n",
        "              drag.append(i)\n",
        "            if j not in drag:\n",
        "              drag.append(j)\n",
        "      else:\n",
        "          gf=[1, i, j, 0]\n",
        "          nonLinksPosition1.append(gf)\n",
        "          f+=1\n",
        "\n",
        "  CV=0\n",
        "  index = np.arange(0, len(testPosition))\n",
        "  random.shuffle(index)\n",
        "  fold_num = len(link_position) // CV_num\n",
        "  non_fold_num = len(nonLinksPosition1) // CV_num\n",
        "  test_index = index[(CV * fold_num):((CV + 1) * fold_num)]\n",
        "  valid_index = index[((CV+1) * fold_num):((CV + 2) * fold_num)]\n",
        "  train_index = index[((CV+2) * fold_num): ]\n",
        "  test_index.sort()\n",
        "  train_index.sort()\n",
        "  valid_index.sort()\n",
        "  if len(testPosition)> ((len(link_position) // CV_num)*2):\n",
        "    testPosition = np.array(testPosition)[test_index]\n",
        "    validPosition = np.array(validPosition)[valid_index]\n",
        "    trainPosition1 = np.array(trainPosition1)[train_index]\n",
        "    trainPosition = np.concatenate((np.array(trainPosition), trainPosition1), axis=0)\n",
        "  else:\n",
        "    index = np.arange(0, len(testPosition))\n",
        "    random.shuffle(index)\n",
        "    fold_num = len(testPosition) // 2\n",
        "    test_index = index[(CV * fold_num):((CV + 1) * fold_num)]\n",
        "    valid_index = index[((CV+1) * fold_num): ]\n",
        "    test_index.sort()\n",
        "    valid_index.sort()\n",
        "    testPosition = np.array(testPosition)[test_index]\n",
        "    validPosition = np.array(validPosition)[test_index]\n",
        "\n",
        "  index = np.arange(0, len(nonLinksPosition))\n",
        "  random.shuffle(index)\n",
        "  count=link_number//(2*CV_num)\n",
        "  nl//=2\n",
        "\n",
        "  if count >= len(nonLinksPosition):\n",
        "      nl = len(nonLinksPosition)\n",
        "      nl//=2\n",
        "      test_index = index[0:nl]\n",
        "      valid_index = index[nl: ]\n",
        "      testPosition2 = np.array(nonLinksPosition1)[test_index]\n",
        "      validPosition2 = np.array(nonLinksPosition1)[valid_index]\n",
        "\n",
        "      testPosition = np.concatenate((np.array(testPosition), testPosition2), axis=0)\n",
        "      validPosition = np.concatenate((np.array(validPosition), validPosition2), axis=0)\n",
        "  if count < len(nonLinksPosition):\n",
        "      test_index = index[0:nl]\n",
        "      valid_index = index[nl: ]\n",
        "      train_index.sort()\n",
        "      test_index.sort()\n",
        "      valid_index.sort()\n",
        "      testPosition2 = np.array(nonLinksPosition1)[test_index]\n",
        "      validPosition2 = np.array(nonLinksPosition1)[valid_index]\n",
        "\n",
        "      testPosition = np.concatenate((np.array(testPosition), testPosition2), axis=0)\n",
        "      validPosition = np.concatenate((np.array(validPosition), validPosition2), axis=0)\n",
        "\n",
        "  return (trainPosition, validPosition, testPosition)"
      ]
    },
    {
      "cell_type": "code",
      "execution_count": null,
      "metadata": {
        "id": "6jQ4nHZUNA-D"
      },
      "outputs": [],
      "source": [
        "def pos_pu(a, data, CV_num):\n",
        "  print(\"fold_num\", CV_num)\n",
        "  fold_num=0\n",
        "  non_fold_num=0\n",
        "  count=0\n",
        "  trainPosition=[]\n",
        "  trainPosition0=[]\n",
        "  all_pos=[]\n",
        "  validPosition=[]\n",
        "  testPosition=[]\n",
        "  drag=[]\n",
        "  validPosition0=[]\n",
        "  puPosition=[]\n",
        "  testPosition0=[]\n",
        "  trainPosition1=[]\n",
        "  validPosition1=[]\n",
        "  testPosition1=[]\n",
        "  link_number = 0\n",
        "  nonLinksPosition1 = []\n",
        "  nonLinksPosition = [] # all non-link position\n",
        "  link_position = []\n",
        "  CV=0\n",
        "  f=0\n",
        "  nl=0\n",
        "  counter=0\n",
        "  for i in range(len(a)):\n",
        "        for j in range(i+1, len(a)):\n",
        "          if (a[i, j] == 1) or (data[f]==1):\n",
        "\n",
        "                link_number = link_number + 1\n",
        "                link_position.append([i, j])\n",
        "                counter+=1\n",
        "                f+=1\n",
        "          else:\n",
        "                nonLinksPosition.append([1, i, j,0])\n",
        "                nl+=1\n",
        "                f+=1\n",
        "  link_position = np.array(link_position)\n",
        "  nonLinksPosition = np.array(nonLinksPosition)\n",
        "  index = np.arange(0, len(link_position))\n",
        "  random.shuffle(index)\n",
        "  fold_num = len(link_position) // CV_num\n",
        "  test_index = index[(CV * fold_num):((CV + 1) * fold_num)]\n",
        "  valid_index = index[((CV+1) * fold_num):((CV + 2) * fold_num)]\n",
        "  train_index = index[((CV+2) * fold_num): ]\n",
        "  #train_index = np.setdiff1d(index, test_index)\n",
        "  test_index.sort()\n",
        "  train_index.sort()\n",
        "  valid_index.sort()\n",
        "  f=0\n",
        "  for i in range(len(a)):\n",
        "    for j in range(i+1, len(a)):\n",
        "      if (a[i, j] == 1) or (data[f]==1):\n",
        "          f+=1\n",
        "          if (i in drag) and (j in drag):\n",
        "            gf=[1, i, j, 1]\n",
        "            testPosition.append(gf)\n",
        "            validPosition.append(gf)\n",
        "            gf=[1, i, j]\n",
        "            trainPosition1.append(gf)\n",
        "          else:\n",
        "            gf=[1, i, j]\n",
        "            trainPosition.append(gf)\n",
        "            if i not in drag:\n",
        "              drag.append(i)\n",
        "            if j not in drag:\n",
        "              drag.append(j)\n",
        "      else:\n",
        "          gf=[1, i, j, 0]\n",
        "          nonLinksPosition1.append(gf)\n",
        "          f+=1\n",
        "\n",
        "  CV=0\n",
        "  index = np.arange(0, len(testPosition))\n",
        "  random.shuffle(index)\n",
        "  fold_num = len(link_position) // CV_num\n",
        "  non_fold_num = len(nonLinksPosition1) // CV_num\n",
        "  test_index = index[(CV * fold_num):((CV + 1) * fold_num)]\n",
        "  valid_index = index[((CV+1) * fold_num):((CV + 2) * fold_num)]\n",
        "  train_index = index[((CV+2) * fold_num): ]\n",
        "  test_index.sort()\n",
        "  train_index.sort()\n",
        "  valid_index.sort()\n",
        "  if len(testPosition)> ((len(link_position) // CV_num)*2):\n",
        "    testPosition = np.array(testPosition)[test_index]\n",
        "    validPosition = np.array(validPosition)[valid_index]\n",
        "    trainPosition1 = np.array(trainPosition1)[train_index]\n",
        "    trainPosition = np.concatenate((np.array(trainPosition), trainPosition1), axis=0)\n",
        "  else:\n",
        "    index = np.arange(0, len(testPosition))\n",
        "    random.shuffle(index)\n",
        "    fold_num = len(testPosition) // 2\n",
        "    test_index = index[(CV * fold_num):((CV + 1) * fold_num)]\n",
        "    valid_index = index[((CV+1) * fold_num): ]\n",
        "    test_index.sort()\n",
        "    valid_index.sort()\n",
        "    testPosition = np.array(testPosition)[test_index]\n",
        "    validPosition = np.array(validPosition)[test_index]\n",
        "\n",
        "  index = np.arange(0, len(nonLinksPosition))\n",
        "  random.shuffle(index)\n",
        "  count=link_number//(2*CV_num)\n",
        "  nl//=2\n",
        "\n",
        "  if count >= len(nonLinksPosition):\n",
        "      nl = len(nonLinksPosition)\n",
        "      nl//=2\n",
        "      test_index = index[0:nl]\n",
        "      valid_index = index[nl: ]\n",
        "      testPosition2 = np.array(nonLinksPosition1)[test_index]\n",
        "      validPosition2 = np.array(nonLinksPosition1)[valid_index]\n",
        "\n",
        "      testPosition = np.concatenate((np.array(testPosition), testPosition2), axis=0)\n",
        "      validPosition = np.concatenate((np.array(validPosition), validPosition2), axis=0)\n",
        "  if count < len(nonLinksPosition):\n",
        "      test_index = index[(CV * fold_num):((CV + 1) * fold_num)]#index[0:nl]\n",
        "      valid_index = index[((CV + 1) * fold_num):((CV + 2) * fold_num)]#index[nl: ]\n",
        "      train_index.sort()\n",
        "      test_index.sort()\n",
        "      valid_index.sort()\n",
        "      testPosition2 = np.array(nonLinksPosition1)[test_index]\n",
        "      validPosition2 = np.array(nonLinksPosition1)[valid_index]\n",
        "\n",
        "      testPosition = np.concatenate((np.array(testPosition), testPosition2), axis=0)\n",
        "      validPosition = np.concatenate((np.array(validPosition), validPosition2), axis=0)\n",
        "\n",
        "  return (trainPosition, validPosition, testPosition)"
      ]
    },
    {
      "cell_type": "code",
      "execution_count": null,
      "metadata": {
        "id": "b9TP8UL6HQt-"
      },
      "outputs": [],
      "source": [
        "pca = PCA(.95)\n",
        "pca.fit(matrix_target)\n",
        "#pca_= PCA(.95)\n",
        "#pca_.fit(drug_protein_adj)\n",
        "#matrix_target_ = pca.transform(matrix_target)\n",
        "matrix_target_ = matrix_target1"
      ]
    },
    {
      "cell_type": "code",
      "source": [],
      "metadata": {
        "id": "Dp5RUCfRUStz"
      },
      "execution_count": null,
      "outputs": []
    },
    {
      "cell_type": "code",
      "execution_count": null,
      "metadata": {
        "id": "MxbT_-v0aQxR"
      },
      "outputs": [],
      "source": [
        "\n",
        "exit_side = np.zeros( ((NO_side), 3) )\n",
        "f1=np.zeros( ((NO_side)) )\n",
        "ar=np.zeros( ((NO_side)) )\n",
        "auc=np.zeros( ((NO_side)) )\n",
        "matrix_neg = np.zeros((len(drag_list),len(drag_list)))\n",
        "exit1=[]\n",
        "\n",
        "r=0\n",
        "b=[]\n",
        "while r <((NO_side)):\n",
        "  valid=[]\n",
        "  test=[]\n",
        "  train=[]\n",
        "  pu=[]\n",
        "  a= matrix(r,data_biocombo, side_list1, dic_sidcode1, dic_dragcode)\n",
        "  data = pu_learn(a)\n",
        "  train, valid, test, = pos_pu(a, data, 10)\n",
        "  #train, valid, test, = pos_all_pu(a, data, 10)\n",
        "\n",
        "  save_walks(\"test.txt\", test)\n",
        "  time.sleep(1)\n",
        "  save_walks(\"valid.txt\", valid)\n",
        "  time.sleep(1)\n",
        "  save_walks(\"train.txt\", train)\n",
        "  time.sleep(1)\n",
        "  %cd /content/drive/My Drive/project\n",
        "  !pwd\n",
        "  !python main.py\n",
        "  time.sleep(1)\n",
        "  %cd /content/drive/My Drive/project\n",
        "  !pwd\n",
        "  exit1 = load_training_data('exit0_1')\n",
        "  l1=exit1[0]\n",
        "  l=l1[0]\n",
        "  print((l[0]))\n",
        "  k1=(l[0])\n",
        "  k2=(l[3])\n",
        "  k3=(l[6])\n",
        "  y1 =(float(k1))\n",
        "  y2 =(float(k2))\n",
        "  y3 =(float(k3))\n",
        "  p= exit_side[r]\n",
        "  auc[r]=y1\n",
        "  ar[r]=y2\n",
        "  f1[r]=y3\n",
        "\n",
        "  exit_side[r]= [auc[r], ar[r], f1[r]]\n",
        "  save_walks(\"all_side\", exit_side)\n",
        "  print(\"IIIIIIIIIIIIIII\", r)\n",
        "\n",
        "  r+=1"
      ]
    },
    {
      "cell_type": "code",
      "execution_count": null,
      "metadata": {
        "id": "lMlRRncTlQPk"
      },
      "outputs": [],
      "source": [
        " all_side1 = exit_side#load_training_data('all_side.txt')"
      ]
    },
    {
      "cell_type": "code",
      "execution_count": null,
      "metadata": {
        "id": "MSm1OkBNhUAm"
      },
      "outputs": [],
      "source": [
        "roc_score=[]\n",
        "aupr_score=[]\n",
        "f_score=[]\n",
        "for i in range((NO_side)):\n",
        "  l=exit_side[i]\n",
        "  roc_score.append(l[0])\n",
        "  aupr_score.append(l[1])\n",
        "  f_score.append(l[2])\n",
        "print(np.mean(roc_score), np.mean(aupr_score),np.mean(f_score),)"
      ]
    }
  ],
  "metadata": {
    "accelerator": "TPU",
    "colab": {
      "provenance": []
    },
    "kernelspec": {
      "display_name": "Python 3",
      "name": "python3"
    },
    "language_info": {
      "name": "python"
    }
  },
  "nbformat": 4,
  "nbformat_minor": 0
}